{
 "cells": [
  {
   "cell_type": "markdown",
   "id": "84a61a2d",
   "metadata": {},
   "source": [
    "### Binary Classfication과 다른 점\n",
    "1. 1.Metrics의(get_clf_eval)의 함수\n",
    "2. 모델 저장 이름\n",
    "3. 다른 점은 거의 없다."
   ]
  },
  {
   "cell_type": "code",
   "execution_count": 9,
   "id": "585fac7c",
   "metadata": {},
   "outputs": [],
   "source": [
    "import xgboost as xgb\n",
    "from xgboost import plot_importance\n",
    "from xgboost import XGBClassifier\n",
    "import pandas as pd\n",
    "import numpy as np\n",
    "from sklearn.model_selection import train_test_split, GridSearchCV\n",
    "from sklearn.metrics import accuracy_score, precision_score, recall_score, confusion_matrix, f1_score, roc_auc_score\n",
    "import matplotlib.pyplot as plt\n",
    "import warnings\n",
    "\n",
    "warnings.filterwarnings('ignore')\n"
   ]
  },
  {
   "cell_type": "markdown",
   "id": "5910cb1f",
   "metadata": {},
   "source": [
    "### 1. Metrics(Accuracy, Precision, Recall, F1_score, AUC)"
   ]
  },
  {
   "cell_type": "code",
   "execution_count": 10,
   "id": "88119f23",
   "metadata": {},
   "outputs": [],
   "source": [
    "def get_clf_eval(y_test, pred=None, pred_proba=None):\n",
    "    confusion = confusion_matrix(y_test, pred)\n",
    "    accuracy = accuracy_score(y_test, pred)\n",
    "    precision = precision_score(y_test, pred, average = 'micro')\n",
    "    recall = recall_score(y_test, pred, average = 'micro')\n",
    "    f1 = f1_score(y_test, pred ,average = 'micro')\n",
    "    \n",
    "    print('Confusion Matrix')\n",
    "    print(confusion)\n",
    "    print('Accuracy: {0:.4f}, Precision: {1:.4f}, Recall: {2:.4f}, F1: {3:.4f}'\n",
    "          .format(accuracy, precision, recall, f1))"
   ]
  },
  {
   "cell_type": "markdown",
   "id": "21d00a89",
   "metadata": {},
   "source": [
    "### 2. Dataset Load## Dataset Load"
   ]
  },
  {
   "cell_type": "code",
   "execution_count": 11,
   "id": "056c1aee",
   "metadata": {
    "scrolled": false
   },
   "outputs": [
    {
     "name": "stdout",
     "output_type": "stream",
     "text": [
      "Feature shape:(9000, 111)\n"
     ]
    }
   ],
   "source": [
    "import pandas as pd\n",
    "dataset = pd.read_csv(\"cic_feature_permission.csv\")\n",
    "X_features = dataset.loc[:,dataset.columns != 'label']\n",
    "\n",
    "y_label = dataset['label']\n",
    "\n",
    "dataset.loc[:,dataset.columns != 'label']\n",
    "print('Feature shape:{0}'.format(X_features.shape))"
   ]
  },
  {
   "cell_type": "markdown",
   "id": "b9caaa71",
   "metadata": {},
   "source": [
    "### 3. Dataset Split(Train, Eval, Test)"
   ]
  },
  {
   "cell_type": "code",
   "execution_count": 12,
   "id": "62e0a854",
   "metadata": {
    "scrolled": true
   },
   "outputs": [
    {
     "name": "stdout",
     "output_type": "stream",
     "text": [
      "Train Shape:(5400, 111), Eval Shape:(1800, 111) Test Shape:(1800, 111)\n",
      "\n",
      "Train\n",
      "2.0    2891\n",
      "1.0    1514\n",
      "0.0     995\n",
      "Name: label, dtype: int64\n",
      "\n",
      "Eval\n",
      "2.0    981\n",
      "1.0    493\n",
      "0.0    326\n",
      "Name: label, dtype: int64\n",
      "\n",
      "Test\n",
      "2.0    923\n",
      "1.0    529\n",
      "0.0    348\n",
      "Name: label, dtype: int64\n"
     ]
    }
   ],
   "source": [
    "# with validation date\n",
    "X_train, X_test, y_train, y_test = train_test_split(X_features, y_label,\n",
    "                                                    test_size=0.4, random_state=0)\n",
    "X_eval, X_test, y_eval, y_test = train_test_split(X_test, y_test, \n",
    "                                                  test_size=0.5, random_state=0)\n",
    "\n",
    "train_cnt = y_train.count() # train 데이터 수\n",
    "eval_cnt = y_eval.count() # validation 데이터 수\n",
    "test_cnt = y_test.count() # test 데이터 수\n",
    "\n",
    "\n",
    "print('Train Shape:{0}, Eval Shape:{1} Test Shape:{2}'.format(X_train.shape, X_eval.shape, X_test.shape))\n",
    "\n",
    "print('\\nTrain')\n",
    "# print(y_train.value_counts()/train_cnt)\n",
    "print(y_train.value_counts())\n",
    "\n",
    "print('\\nEval')\n",
    "# print(y_eval.value_counts()/eval_cnt)\n",
    "print(y_eval.value_counts())\n",
    "\n",
    "print('\\nTest')\n",
    "# print(y_test.value_counts()/test_cnt)\n",
    "print(y_test.value_counts())"
   ]
  },
  {
   "cell_type": "markdown",
   "id": "432c1bfd",
   "metadata": {},
   "source": [
    "### 4. Train with GridSearchCV## Train without GridSearchCV"
   ]
  },
  {
   "cell_type": "markdown",
   "id": "f7e54226",
   "metadata": {},
   "source": [
    "HyperParamter setting"
   ]
  },
  {
   "cell_type": "code",
   "execution_count": 13,
   "id": "f14b8131",
   "metadata": {
    "scrolled": true
   },
   "outputs": [],
   "source": [
    "grid_param ={'max_depth' : [3, 5, 7, 9],\n",
    "             'n_estimators': [800, 900, 1000],\n",
    "             'learning_rate': [0.01, 0.1, 0.2],\n",
    "             'objective':['multi:softproba'],\n",
    "             'eval_metric': ['mlogloss'],\n",
    "             'gamma': [0, 0.5, 1],\n",
    "             'random_state':[51],\n",
    "            }\n",
    "\n",
    "xgb_clf = XGBClassifier(early_stopping_rounds=50)\n",
    "evals = [(X_eval, y_eval)]"
   ]
  },
  {
   "cell_type": "markdown",
   "id": "f4a72608",
   "metadata": {},
   "source": [
    "Train"
   ]
  },
  {
   "cell_type": "code",
   "execution_count": 15,
   "id": "d2236916",
   "metadata": {},
   "outputs": [
    {
     "name": "stdout",
     "output_type": "stream",
     "text": [
      "Total learning time:  45.75236797332764\n"
     ]
    }
   ],
   "source": [
    "import time\n",
    "start_time = time.time()\n",
    "\n",
    "#verbose: 학습 과정 출력\n",
    "grid_xgb_clf = GridSearchCV(xgb_clf, param_grid=grid_param, cv=5, refit=True, verbose=100)\n",
    "grid_xgb_clf.fit(X_train, y_train, eval_set=evals, verbose=True)\n",
    "\n",
    "print(\"Total learning time: \", time.time() - start_time)"
   ]
  },
  {
   "cell_type": "markdown",
   "id": "4522127e",
   "metadata": {},
   "source": [
    "### 5. Best parameter and estimator"
   ]
  },
  {
   "cell_type": "code",
   "execution_count": 16,
   "id": "c183d272",
   "metadata": {},
   "outputs": [],
   "source": [
    "# help(grid_xgb_clf)\n",
    "# 최적의 하이퍼 파라미터 출력\n",
    "best_params=grid_xgb_clf.best_params_\n",
    "\n",
    "# 최적의 하이퍼 파라미터로 학습된 모델\n",
    "best_estimator = grid_xgb_clf.best_estimator_"
   ]
  },
  {
   "cell_type": "code",
   "execution_count": 17,
   "id": "ae6338a9",
   "metadata": {},
   "outputs": [
    {
     "name": "stdout",
     "output_type": "stream",
     "text": [
      "{'eval_metric': 'mlogloss', 'gamma': 0, 'learning_rate': 0.01, 'max_depth': 7, 'n_estimators': 500, 'objective': 'multi:softproba', 'random_state': 51}\n"
     ]
    }
   ],
   "source": [
    "print(best_params)"
   ]
  },
  {
   "cell_type": "code",
   "execution_count": 18,
   "id": "66eafa55",
   "metadata": {},
   "outputs": [
    {
     "name": "stdout",
     "output_type": "stream",
     "text": [
      "[1 2 2 ... 2 1 1]\n",
      "[0.992081   0.00349206 0.00618605 ... 0.01087432 0.9371764  0.9754439 ]\n"
     ]
    }
   ],
   "source": [
    "w_preds = grid_xgb_clf.predict(X_test) # 분류 결과(label)\n",
    "print(w_preds)\n",
    "\n",
    "w_pred_proba = grid_xgb_clf.predict_proba(X_test)[:,1] # 분류 결과(확률)\n",
    "print(w_pred_proba)\n"
   ]
  },
  {
   "cell_type": "markdown",
   "id": "a7242d20",
   "metadata": {},
   "source": [
    "### 6. Model Save"
   ]
  },
  {
   "cell_type": "code",
   "execution_count": 19,
   "id": "1f41e452",
   "metadata": {},
   "outputs": [],
   "source": [
    "# model 파일로 저장, 저장형식은 json, 하지만 json은 txt로 저장했을 때 보다 용량이 2배크다...\n",
    "best_estimator.save_model('Multi_grid_xgb.json')"
   ]
  },
  {
   "cell_type": "code",
   "execution_count": 20,
   "id": "1a2d8980",
   "metadata": {
    "scrolled": true
   },
   "outputs": [
    {
     "name": "stdout",
     "output_type": "stream",
     "text": [
      "Confusion Matrix\n",
      "[[338  10   0]\n",
      " [ 21 497  11]\n",
      " [  2   5 916]]\n",
      "Accuracy: 0.9728, Precision: 0.9728, Recall: 0.9728, F1: 0.9728\n"
     ]
    }
   ],
   "source": [
    "get_clf_eval(y_test, w_preds, w_pred_proba)"
   ]
  },
  {
   "cell_type": "markdown",
   "id": "f31651d3",
   "metadata": {},
   "source": [
    "---"
   ]
  },
  {
   "cell_type": "markdown",
   "id": "6a3182eb",
   "metadata": {},
   "source": [
    "## Model Load\n",
    "저장된 모델 재사용 하는 방법"
   ]
  },
  {
   "cell_type": "code",
   "execution_count": 21,
   "id": "e3ed71f4",
   "metadata": {},
   "outputs": [],
   "source": [
    "import pandas as pd\n",
    "import numpy as np\n",
    "\n",
    "import xgboost as xgb\n",
    "from xgboost import plot_importance\n",
    "from xgboost import XGBClassifier\n",
    "\n",
    "from sklearn.model_selection import train_test_split, GridSearchCV\n",
    "from sklearn.metrics import accuracy_score, precision_score, recall_score, confusion_matrix, f1_score, roc_auc_score\n",
    "\n",
    "import matplotlib.pyplot as plt\n",
    "import warnings\n",
    "warnings.filterwarnings('ignore')\n",
    "\n"
   ]
  },
  {
   "cell_type": "code",
   "execution_count": 22,
   "id": "03e41f36",
   "metadata": {},
   "outputs": [],
   "source": [
    "def get_clf_eval(y_test, pred=None, pred_proba=None):\n",
    "    confusion = confusion_matrix(y_test, pred)\n",
    "    accuracy = accuracy_score(y_test, pred)\n",
    "    precision = precision_score(y_test, pred, average = 'micro')\n",
    "    recall = recall_score(y_test, pred, average = 'micro')\n",
    "    f1 = f1_score(y_test, pred ,average = 'micro')\n",
    "    \n",
    "    print('Confusion Matrix')\n",
    "    print(confusion)\n",
    "    print('Accuracy: {0:.4f}, Precision: {1:.4f}, Recall: {2:.4f}, F1: {3:.4f}'\n",
    "          .format(accuracy, precision, recall, f1))"
   ]
  },
  {
   "cell_type": "markdown",
   "id": "bf834104",
   "metadata": {},
   "source": [
    "### 1. Dataset Load"
   ]
  },
  {
   "cell_type": "code",
   "execution_count": 23,
   "id": "94946784",
   "metadata": {},
   "outputs": [
    {
     "name": "stdout",
     "output_type": "stream",
     "text": [
      "Feature shape:(9000, 111)\n"
     ]
    }
   ],
   "source": [
    "import pandas as pd\n",
    "dataset = pd.read_csv(\"cic_feature_permission.csv\")\n",
    "X_features = dataset.loc[:,dataset.columns != 'label']\n",
    "\n",
    "y_label = dataset['label']\n",
    "\n",
    "dataset.loc[:,dataset.columns != 'label']\n",
    "print('Feature shape:{0}'.format(X_features.shape))"
   ]
  },
  {
   "cell_type": "code",
   "execution_count": 24,
   "id": "5344ef64",
   "metadata": {},
   "outputs": [
    {
     "name": "stdout",
     "output_type": "stream",
     "text": [
      "Train Shape:(5400, 111), Eval Shape:(1800, 111) Test Shape:(1800, 111)\n",
      "\n",
      "Train\n",
      "2.0    2891\n",
      "1.0    1514\n",
      "0.0     995\n",
      "Name: label, dtype: int64\n",
      "\n",
      "Eval\n",
      "2.0    981\n",
      "1.0    493\n",
      "0.0    326\n",
      "Name: label, dtype: int64\n",
      "\n",
      "Test\n",
      "2.0    923\n",
      "1.0    529\n",
      "0.0    348\n",
      "Name: label, dtype: int64\n"
     ]
    }
   ],
   "source": [
    "# with validation date\n",
    "X_train, X_test, y_train, y_test = train_test_split(X_features, y_label,\n",
    "                                                    test_size=0.4, random_state=0)\n",
    "X_eval, X_test, y_eval, y_test = train_test_split(X_test, y_test, \n",
    "                                                  test_size=0.5, random_state=0)\n",
    "\n",
    "train_cnt = y_train.count() # train 데이터 수\n",
    "eval_cnt = y_eval.count() # validation 데이터 수\n",
    "test_cnt = y_test.count() # test 데이터 수\n",
    "\n",
    "\n",
    "print('Train Shape:{0}, Eval Shape:{1} Test Shape:{2}'.format(X_train.shape, X_eval.shape, X_test.shape))\n",
    "\n",
    "print('\\nTrain')\n",
    "# print(y_train.value_counts()/train_cnt)\n",
    "print(y_train.value_counts())\n",
    "\n",
    "print('\\nEval')\n",
    "# print(y_eval.value_counts()/eval_cnt)\n",
    "print(y_eval.value_counts())\n",
    "\n",
    "print('\\nTest')\n",
    "# print(y_test.value_counts()/test_cnt)\n",
    "print(y_test.value_counts())"
   ]
  },
  {
   "cell_type": "markdown",
   "id": "7b9fc8c0",
   "metadata": {},
   "source": [
    "### 2. Model Load"
   ]
  },
  {
   "cell_type": "code",
   "execution_count": 25,
   "id": "14e12a53",
   "metadata": {},
   "outputs": [],
   "source": [
    "load_model = XGBClassifier()\n",
    "load_model.load_model('Multi_grid_xgb.json')"
   ]
  },
  {
   "cell_type": "markdown",
   "id": "a0a20269",
   "metadata": {},
   "source": [
    "### 3. Model Test"
   ]
  },
  {
   "cell_type": "code",
   "execution_count": 26,
   "id": "cdf71a43",
   "metadata": {},
   "outputs": [
    {
     "name": "stdout",
     "output_type": "stream",
     "text": [
      "[1 2 2 ... 2 1 1]\n",
      "[0.992081   0.00349206 0.00618605 ... 0.01087432 0.9371764  0.9754439 ]\n"
     ]
    }
   ],
   "source": [
    "w_preds = load_model.predict(X_test) # 분류 결과(label)\n",
    "print(w_preds)\n",
    "\n",
    "w_pred_proba = load_model.predict_proba(X_test)[:,1] # 분류 결과(확률)\n",
    "print(w_pred_proba)"
   ]
  },
  {
   "cell_type": "code",
   "execution_count": 27,
   "id": "176db72f",
   "metadata": {},
   "outputs": [
    {
     "name": "stdout",
     "output_type": "stream",
     "text": [
      "Confusion Matrix\n",
      "[[338  10   0]\n",
      " [ 21 497  11]\n",
      " [  2   5 916]]\n",
      "Accuracy: 0.9728, Precision: 0.9728, Recall: 0.9728, F1: 0.9728\n"
     ]
    }
   ],
   "source": [
    "get_clf_eval(y_test, w_preds, w_pred_proba)"
   ]
  }
 ],
 "metadata": {
  "kernelspec": {
   "display_name": "Python 3 (ipykernel)",
   "language": "python",
   "name": "python3"
  },
  "language_info": {
   "codemirror_mode": {
    "name": "ipython",
    "version": 3
   },
   "file_extension": ".py",
   "mimetype": "text/x-python",
   "name": "python",
   "nbconvert_exporter": "python",
   "pygments_lexer": "ipython3",
   "version": "3.9.12"
  }
 },
 "nbformat": 4,
 "nbformat_minor": 5
}
